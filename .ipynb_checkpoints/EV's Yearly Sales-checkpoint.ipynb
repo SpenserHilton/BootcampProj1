{
 "cells": [
  {
   "cell_type": "code",
   "execution_count": 247,
   "metadata": {
    "collapsed": true
   },
   "outputs": [],
   "source": [
    "import pandas as pd\n",
    "import numpy as np\n",
    "import csv\n",
    "import string\n",
    "import matplotlib.pyplot as plt"
   ]
  },
  {
   "cell_type": "code",
   "execution_count": 248,
   "metadata": {
    "collapsed": true
   },
   "outputs": [],
   "source": [
    "yearlysales = \"EV Yearly sales.csv\""
   ]
  },
  {
   "cell_type": "code",
   "execution_count": 252,
   "metadata": {},
   "outputs": [],
   "source": [
    "yearlysales_df= pd.read_csv(yearlysales,encoding = \"ISO-8859-1\",error_bad_lines=False)\n",
    "yearlysales_df=yearlysales_df[:-1]\n",
    "yearlysales_df.drop(['Model'], axis =1, inplace = True)\n",
    "yearlysales_df.loc(yearlysales_df['Type']=='')"
   ]
  },
  {
   "cell_type": "code",
   "execution_count": 253,
   "metadata": {},
   "outputs": [
    {
     "data": {
      "text/html": [
       "<div>\n",
       "<style>\n",
       "    .dataframe thead tr:only-child th {\n",
       "        text-align: right;\n",
       "    }\n",
       "\n",
       "    .dataframe thead th {\n",
       "        text-align: left;\n",
       "    }\n",
       "\n",
       "    .dataframe tbody tr th {\n",
       "        vertical-align: top;\n",
       "    }\n",
       "</style>\n",
       "<table border=\"1\" class=\"dataframe\">\n",
       "  <thead>\n",
       "    <tr style=\"text-align: right;\">\n",
       "      <th></th>\n",
       "      <th>Type</th>\n",
       "      <th>2011</th>\n",
       "      <th>2012</th>\n",
       "      <th>2013</th>\n",
       "      <th>2014</th>\n",
       "      <th>2015</th>\n",
       "      <th>2016</th>\n",
       "      <th>2017</th>\n",
       "      <th>TOTAL</th>\n",
       "    </tr>\n",
       "  </thead>\n",
       "  <tbody>\n",
       "    <tr>\n",
       "      <th>0</th>\n",
       "      <td>EV</td>\n",
       "      <td>9,674</td>\n",
       "      <td>9,819</td>\n",
       "      <td>22,610</td>\n",
       "      <td>30,200</td>\n",
       "      <td>17,269</td>\n",
       "      <td>14,006</td>\n",
       "      <td>11,230</td>\n",
       "      <td>103,578</td>\n",
       "    </tr>\n",
       "    <tr>\n",
       "      <th>1</th>\n",
       "      <td>PHEV</td>\n",
       "      <td>7,671</td>\n",
       "      <td>23,461</td>\n",
       "      <td>23,094</td>\n",
       "      <td>18,805</td>\n",
       "      <td>15,393</td>\n",
       "      <td>24,739</td>\n",
       "      <td>20,349</td>\n",
       "      <td>113,163</td>\n",
       "    </tr>\n",
       "    <tr>\n",
       "      <th>2</th>\n",
       "      <td>EV</td>\n",
       "      <td>0</td>\n",
       "      <td>2,171</td>\n",
       "      <td>19,000</td>\n",
       "      <td>16,750</td>\n",
       "      <td>26,200</td>\n",
       "      <td>29,156</td>\n",
       "      <td>27,060</td>\n",
       "      <td>93,277</td>\n",
       "    </tr>\n",
       "    <tr>\n",
       "      <th>3</th>\n",
       "      <td>PHEV</td>\n",
       "      <td>0</td>\n",
       "      <td>12,749</td>\n",
       "      <td>12,088</td>\n",
       "      <td>13,264</td>\n",
       "      <td>4,191</td>\n",
       "      <td>2,474</td>\n",
       "      <td>20,936</td>\n",
       "      <td>44,766</td>\n",
       "    </tr>\n",
       "    <tr>\n",
       "      <th>4</th>\n",
       "      <td>PHEV</td>\n",
       "      <td>0</td>\n",
       "      <td>0</td>\n",
       "      <td>6,089</td>\n",
       "      <td>11,550</td>\n",
       "      <td>9,750</td>\n",
       "      <td>15,938</td>\n",
       "      <td>9,632</td>\n",
       "      <td>43,327</td>\n",
       "    </tr>\n",
       "  </tbody>\n",
       "</table>\n",
       "</div>"
      ],
      "text/plain": [
       "   Type   2011    2012    2013    2014    2015    2016    2017    TOTAL\n",
       "0    EV  9,674   9,819  22,610  30,200  17,269  14,006  11,230  103,578\n",
       "1  PHEV  7,671  23,461  23,094  18,805  15,393  24,739  20,349  113,163\n",
       "2    EV      0   2,171  19,000  16,750  26,200  29,156  27,060   93,277\n",
       "3  PHEV      0  12,749  12,088  13,264   4,191   2,474  20,936   44,766\n",
       "4  PHEV      0       0   6,089  11,550   9,750  15,938   9,632   43,327"
      ]
     },
     "execution_count": 253,
     "metadata": {},
     "output_type": "execute_result"
    }
   ],
   "source": [
    "yearlysales_df.head()"
   ]
  },
  {
   "cell_type": "code",
   "execution_count": 241,
   "metadata": {},
   "outputs": [
    {
     "data": {
      "text/html": [
       "<div>\n",
       "<style>\n",
       "    .dataframe thead tr:only-child th {\n",
       "        text-align: right;\n",
       "    }\n",
       "\n",
       "    .dataframe thead th {\n",
       "        text-align: left;\n",
       "    }\n",
       "\n",
       "    .dataframe tbody tr th {\n",
       "        vertical-align: top;\n",
       "    }\n",
       "</style>\n",
       "<table border=\"1\" class=\"dataframe\">\n",
       "  <thead>\n",
       "    <tr style=\"text-align: right;\">\n",
       "      <th></th>\n",
       "      <th>Model</th>\n",
       "      <th>Type</th>\n",
       "      <th>2011</th>\n",
       "      <th>2012</th>\n",
       "      <th>2013</th>\n",
       "      <th>2014</th>\n",
       "      <th>2015</th>\n",
       "      <th>2016</th>\n",
       "      <th>2017</th>\n",
       "      <th>TOTAL</th>\n",
       "    </tr>\n",
       "  </thead>\n",
       "  <tbody>\n",
       "    <tr>\n",
       "      <th>0</th>\n",
       "      <td>NaN</td>\n",
       "      <td>NaN</td>\n",
       "      <td>9674</td>\n",
       "      <td>9819</td>\n",
       "      <td>22610</td>\n",
       "      <td>30200</td>\n",
       "      <td>17269</td>\n",
       "      <td>14006</td>\n",
       "      <td>11230</td>\n",
       "      <td>103578</td>\n",
       "    </tr>\n",
       "    <tr>\n",
       "      <th>1</th>\n",
       "      <td>NaN</td>\n",
       "      <td>NaN</td>\n",
       "      <td>7671</td>\n",
       "      <td>23461</td>\n",
       "      <td>23094</td>\n",
       "      <td>18805</td>\n",
       "      <td>15393</td>\n",
       "      <td>24739</td>\n",
       "      <td>20349</td>\n",
       "      <td>113163</td>\n",
       "    </tr>\n",
       "    <tr>\n",
       "      <th>2</th>\n",
       "      <td>NaN</td>\n",
       "      <td>NaN</td>\n",
       "      <td>0</td>\n",
       "      <td>2171</td>\n",
       "      <td>19000</td>\n",
       "      <td>16750</td>\n",
       "      <td>26200</td>\n",
       "      <td>29156</td>\n",
       "      <td>27060</td>\n",
       "      <td>93277</td>\n",
       "    </tr>\n",
       "    <tr>\n",
       "      <th>3</th>\n",
       "      <td>NaN</td>\n",
       "      <td>NaN</td>\n",
       "      <td>0</td>\n",
       "      <td>12749</td>\n",
       "      <td>12088</td>\n",
       "      <td>13264</td>\n",
       "      <td>4191</td>\n",
       "      <td>2474</td>\n",
       "      <td>20936</td>\n",
       "      <td>44766</td>\n",
       "    </tr>\n",
       "    <tr>\n",
       "      <th>4</th>\n",
       "      <td>NaN</td>\n",
       "      <td>NaN</td>\n",
       "      <td>0</td>\n",
       "      <td>0</td>\n",
       "      <td>6089</td>\n",
       "      <td>11550</td>\n",
       "      <td>9750</td>\n",
       "      <td>15938</td>\n",
       "      <td>9632</td>\n",
       "      <td>43327</td>\n",
       "    </tr>\n",
       "  </tbody>\n",
       "</table>\n",
       "</div>"
      ],
      "text/plain": [
       "   Model  Type  2011   2012   2013   2014   2015   2016   2017   TOTAL\n",
       "0    NaN   NaN  9674   9819  22610  30200  17269  14006  11230  103578\n",
       "1    NaN   NaN  7671  23461  23094  18805  15393  24739  20349  113163\n",
       "2    NaN   NaN     0   2171  19000  16750  26200  29156  27060   93277\n",
       "3    NaN   NaN     0  12749  12088  13264   4191   2474  20936   44766\n",
       "4    NaN   NaN     0      0   6089  11550   9750  15938   9632   43327"
      ]
     },
     "execution_count": 241,
     "metadata": {},
     "output_type": "execute_result"
    }
   ],
   "source": [
    "yearlysales_df1 = yearlysales_df.apply(lambda x: pd.to_numeric(x.str.replace(',',''), errors='coerce'))\n",
    "yearlysales_df1.head()"
   ]
  },
  {
   "cell_type": "code",
   "execution_count": 242,
   "metadata": {},
   "outputs": [
    {
     "data": {
      "text/plain": [
       "2011     17731\n",
       "2012     53234\n",
       "2013     96702\n",
       "2014    118773\n",
       "2015    115079\n",
       "2016    144035\n",
       "2017    149484\n",
       "dtype: int64"
      ]
     },
     "execution_count": 242,
     "metadata": {},
     "output_type": "execute_result"
    }
   ],
   "source": [
    "Total_Purchases_df = yearlysales_df1[[\"2011\",\"2012\",\"2013\",\"2014\",\"2015\",\"2016\",\"2017\"]].sum()\n",
    "Total_Purchases_df.head(7)"
   ]
  },
  {
   "cell_type": "code",
   "execution_count": 245,
   "metadata": {},
   "outputs": [
    {
     "data": {
      "text/html": [
       "<div>\n",
       "<style>\n",
       "    .dataframe thead tr:only-child th {\n",
       "        text-align: right;\n",
       "    }\n",
       "\n",
       "    .dataframe thead th {\n",
       "        text-align: left;\n",
       "    }\n",
       "\n",
       "    .dataframe tbody tr th {\n",
       "        vertical-align: top;\n",
       "    }\n",
       "</style>\n",
       "<table border=\"1\" class=\"dataframe\">\n",
       "  <thead>\n",
       "    <tr style=\"text-align: right;\">\n",
       "      <th></th>\n",
       "      <th>Vehicle Counts</th>\n",
       "      <th>Years</th>\n",
       "    </tr>\n",
       "  </thead>\n",
       "  <tbody>\n",
       "    <tr>\n",
       "      <th>0</th>\n",
       "      <td>17731</td>\n",
       "      <td>2011</td>\n",
       "    </tr>\n",
       "    <tr>\n",
       "      <th>1</th>\n",
       "      <td>53234</td>\n",
       "      <td>2012</td>\n",
       "    </tr>\n",
       "    <tr>\n",
       "      <th>2</th>\n",
       "      <td>96702</td>\n",
       "      <td>2013</td>\n",
       "    </tr>\n",
       "    <tr>\n",
       "      <th>3</th>\n",
       "      <td>118773</td>\n",
       "      <td>2014</td>\n",
       "    </tr>\n",
       "    <tr>\n",
       "      <th>4</th>\n",
       "      <td>115079</td>\n",
       "      <td>2015</td>\n",
       "    </tr>\n",
       "    <tr>\n",
       "      <th>5</th>\n",
       "      <td>144035</td>\n",
       "      <td>2016</td>\n",
       "    </tr>\n",
       "    <tr>\n",
       "      <th>6</th>\n",
       "      <td>149484</td>\n",
       "      <td>2017</td>\n",
       "    </tr>\n",
       "  </tbody>\n",
       "</table>\n",
       "</div>"
      ],
      "text/plain": [
       "   Vehicle Counts  Years\n",
       "0           17731   2011\n",
       "1           53234   2012\n",
       "2           96702   2013\n",
       "3          118773   2014\n",
       "4          115079   2015\n",
       "5          144035   2016\n",
       "6          149484   2017"
      ]
     },
     "execution_count": 245,
     "metadata": {},
     "output_type": "execute_result"
    }
   ],
   "source": [
    "Yearly_df = {'Years':[2011,2012,2013,2014,2015,2016,2017],'Vehicle Counts':[17731,53234,96702,118773,115079,144035,149484]}\n",
    "Yearlygraph_df_x = pd.DataFrame(data=Yearly_df)\n",
    "Yearlygraph_df_x.head(7)"
   ]
  },
  {
   "cell_type": "code",
   "execution_count": 244,
   "metadata": {
    "scrolled": false
   },
   "outputs": [
    {
     "data": {
      "image/png": "[encoded data removed]",
      "text/plain": [
       "<matplotlib.figure.Figure at 0x164902ab400>"
      ]
     },
     "metadata": {},
     "output_type": "display_data"
    }
   ],
   "source": [
    "Yearlygraph_df_x.plot(x=\"Years\",y=\"Vehicle Counts\", marker=\"+\",color=\"blue\", linewidth=1, label=\"Yearly Sales Trend\")\n",
    "plt.title(\"EV's Yearly Graph\",fontsize=15)\n",
    "plt.xlabel(\"Years\",fontsize=15)\n",
    "plt.ylabel(\"Yearly Vehicle Sales\",fontsize=15)\n",
    "plt.legend(loc=\"best\")\n",
    "plt.show()"
   ]
  },
  {
   "cell_type": "code",
   "execution_count": null,
   "metadata": {
    "collapsed": true
   },
   "outputs": [],
   "source": []
  }
 ],
 "metadata": {
  "kernelspec": {
   "display_name": "Python 3",
   "language": "python",
   "name": "python3"
  },
  "language_info": {
   "codemirror_mode": {
    "name": "ipython",
    "version": 3
   },
   "file_extension": ".py",
   "mimetype": "text/x-python",
   "name": "python",
   "nbconvert_exporter": "python",
   "pygments_lexer": "ipython3",
   "version": "3.6.1"
  }
 },
 "nbformat": 4,
 "nbformat_minor": 2
}
