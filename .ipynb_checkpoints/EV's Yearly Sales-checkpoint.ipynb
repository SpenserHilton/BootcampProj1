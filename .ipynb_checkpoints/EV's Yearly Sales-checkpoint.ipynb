{
 "cells": [
  {
   "cell_type": "code",
   "execution_count": 170,
   "metadata": {
    "collapsed": true
   },
   "outputs": [],
   "source": [
    "import pandas as pd\n",
    "import numpy as np\n",
    "import csv\n",
    "import string"
   ]
  },
  {
   "cell_type": "code",
   "execution_count": 171,
   "metadata": {
    "collapsed": true
   },
   "outputs": [],
   "source": [
    "yearlysales = \"EV Yearly sales.csv\""
   ]
  },
  {
   "cell_type": "code",
   "execution_count": 172,
   "metadata": {},
   "outputs": [],
   "source": [
    "yearlysales_df= pd.read_csv(yearlysales,encoding = \"ISO-8859-1\",error_bad_lines=False)\n",
    "yearlysales_df=yearlysales_df[:-1]"
   ]
  },
  {
   "cell_type": "code",
   "execution_count": 173,
   "metadata": {},
   "outputs": [
    {
     "data": {
      "text/html": [
       "<div>\n",
       "<style>\n",
       "    .dataframe thead tr:only-child th {\n",
       "        text-align: right;\n",
       "    }\n",
       "\n",
       "    .dataframe thead th {\n",
       "        text-align: left;\n",
       "    }\n",
       "\n",
       "    .dataframe tbody tr th {\n",
       "        vertical-align: top;\n",
       "    }\n",
       "</style>\n",
       "<table border=\"1\" class=\"dataframe\">\n",
       "  <thead>\n",
       "    <tr style=\"text-align: right;\">\n",
       "      <th></th>\n",
       "      <th>Model</th>\n",
       "      <th>Type</th>\n",
       "      <th>2011</th>\n",
       "      <th>2012</th>\n",
       "      <th>2013</th>\n",
       "      <th>2014</th>\n",
       "      <th>2015</th>\n",
       "      <th>2016</th>\n",
       "      <th>2017</th>\n",
       "      <th>TOTAL</th>\n",
       "    </tr>\n",
       "  </thead>\n",
       "  <tbody>\n",
       "    <tr>\n",
       "      <th>0</th>\n",
       "      <td>Nissan LEAF</td>\n",
       "      <td>EV</td>\n",
       "      <td>9,674</td>\n",
       "      <td>9,819</td>\n",
       "      <td>22,610</td>\n",
       "      <td>30,200</td>\n",
       "      <td>17,269</td>\n",
       "      <td>14,006</td>\n",
       "      <td>11,230</td>\n",
       "      <td>103,578</td>\n",
       "    </tr>\n",
       "    <tr>\n",
       "      <th>1</th>\n",
       "      <td>Chevrolet Volt PHEV</td>\n",
       "      <td>PHEV</td>\n",
       "      <td>7,671</td>\n",
       "      <td>23,461</td>\n",
       "      <td>23,094</td>\n",
       "      <td>18,805</td>\n",
       "      <td>15,393</td>\n",
       "      <td>24,739</td>\n",
       "      <td>20,349</td>\n",
       "      <td>113,163</td>\n",
       "    </tr>\n",
       "    <tr>\n",
       "      <th>2</th>\n",
       "      <td>Tesla Model S</td>\n",
       "      <td>EV</td>\n",
       "      <td>0</td>\n",
       "      <td>2,171</td>\n",
       "      <td>19,000</td>\n",
       "      <td>16,750</td>\n",
       "      <td>26,200</td>\n",
       "      <td>29,156</td>\n",
       "      <td>27,060</td>\n",
       "      <td>93,277</td>\n",
       "    </tr>\n",
       "    <tr>\n",
       "      <th>3</th>\n",
       "      <td>Toyota Prius Prime Plug-in</td>\n",
       "      <td>PHEV</td>\n",
       "      <td>0</td>\n",
       "      <td>12,749</td>\n",
       "      <td>12,088</td>\n",
       "      <td>13,264</td>\n",
       "      <td>4,191</td>\n",
       "      <td>2,474</td>\n",
       "      <td>20,936</td>\n",
       "      <td>44,766</td>\n",
       "    </tr>\n",
       "    <tr>\n",
       "      <th>4</th>\n",
       "      <td>Ford Fusion Energi</td>\n",
       "      <td>PHEV</td>\n",
       "      <td>0</td>\n",
       "      <td>0</td>\n",
       "      <td>6,089</td>\n",
       "      <td>11,550</td>\n",
       "      <td>9,750</td>\n",
       "      <td>15,938</td>\n",
       "      <td>9,632</td>\n",
       "      <td>43,327</td>\n",
       "    </tr>\n",
       "  </tbody>\n",
       "</table>\n",
       "</div>"
      ],
      "text/plain": [
       "                        Model  Type   2011    2012    2013    2014    2015  \\\n",
       "0                 Nissan LEAF    EV  9,674   9,819  22,610  30,200  17,269   \n",
       "1         Chevrolet Volt PHEV  PHEV  7,671  23,461  23,094  18,805  15,393   \n",
       "2               Tesla Model S    EV      0   2,171  19,000  16,750  26,200   \n",
       "3  Toyota Prius Prime Plug-in  PHEV      0  12,749  12,088  13,264   4,191   \n",
       "4          Ford Fusion Energi  PHEV      0       0   6,089  11,550   9,750   \n",
       "\n",
       "     2016    2017    TOTAL  \n",
       "0  14,006  11,230  103,578  \n",
       "1  24,739  20,349  113,163  \n",
       "2  29,156  27,060   93,277  \n",
       "3   2,474  20,936   44,766  \n",
       "4  15,938   9,632   43,327  "
      ]
     },
     "execution_count": 173,
     "metadata": {},
     "output_type": "execute_result"
    }
   ],
   "source": [
    "yearlysales_df.head()"
   ]
  },
  {
   "cell_type": "code",
   "execution_count": 174,
   "metadata": {},
   "outputs": [
    {
     "data": {
      "text/html": [
       "<div>\n",
       "<style>\n",
       "    .dataframe thead tr:only-child th {\n",
       "        text-align: right;\n",
       "    }\n",
       "\n",
       "    .dataframe thead th {\n",
       "        text-align: left;\n",
       "    }\n",
       "\n",
       "    .dataframe tbody tr th {\n",
       "        vertical-align: top;\n",
       "    }\n",
       "</style>\n",
       "<table border=\"1\" class=\"dataframe\">\n",
       "  <thead>\n",
       "    <tr style=\"text-align: right;\">\n",
       "      <th></th>\n",
       "      <th>Model</th>\n",
       "      <th>Type</th>\n",
       "      <th>2011</th>\n",
       "      <th>2012</th>\n",
       "      <th>2013</th>\n",
       "      <th>2014</th>\n",
       "      <th>2015</th>\n",
       "      <th>2016</th>\n",
       "      <th>2017</th>\n",
       "      <th>TOTAL</th>\n",
       "    </tr>\n",
       "  </thead>\n",
       "  <tbody>\n",
       "    <tr>\n",
       "      <th>0</th>\n",
       "      <td>NaN</td>\n",
       "      <td>NaN</td>\n",
       "      <td>9674</td>\n",
       "      <td>9819</td>\n",
       "      <td>22610</td>\n",
       "      <td>30200</td>\n",
       "      <td>17269</td>\n",
       "      <td>14006.0</td>\n",
       "      <td>11230.0</td>\n",
       "      <td>103578</td>\n",
       "    </tr>\n",
       "    <tr>\n",
       "      <th>1</th>\n",
       "      <td>NaN</td>\n",
       "      <td>NaN</td>\n",
       "      <td>7671</td>\n",
       "      <td>23461</td>\n",
       "      <td>23094</td>\n",
       "      <td>18805</td>\n",
       "      <td>15393</td>\n",
       "      <td>24739.0</td>\n",
       "      <td>20349.0</td>\n",
       "      <td>113163</td>\n",
       "    </tr>\n",
       "    <tr>\n",
       "      <th>2</th>\n",
       "      <td>NaN</td>\n",
       "      <td>NaN</td>\n",
       "      <td>0</td>\n",
       "      <td>2171</td>\n",
       "      <td>19000</td>\n",
       "      <td>16750</td>\n",
       "      <td>26200</td>\n",
       "      <td>29156.0</td>\n",
       "      <td>27060.0</td>\n",
       "      <td>93277</td>\n",
       "    </tr>\n",
       "    <tr>\n",
       "      <th>3</th>\n",
       "      <td>NaN</td>\n",
       "      <td>NaN</td>\n",
       "      <td>0</td>\n",
       "      <td>12749</td>\n",
       "      <td>12088</td>\n",
       "      <td>13264</td>\n",
       "      <td>4191</td>\n",
       "      <td>2474.0</td>\n",
       "      <td>20936.0</td>\n",
       "      <td>44766</td>\n",
       "    </tr>\n",
       "    <tr>\n",
       "      <th>4</th>\n",
       "      <td>NaN</td>\n",
       "      <td>NaN</td>\n",
       "      <td>0</td>\n",
       "      <td>0</td>\n",
       "      <td>6089</td>\n",
       "      <td>11550</td>\n",
       "      <td>9750</td>\n",
       "      <td>15938.0</td>\n",
       "      <td>9632.0</td>\n",
       "      <td>43327</td>\n",
       "    </tr>\n",
       "  </tbody>\n",
       "</table>\n",
       "</div>"
      ],
      "text/plain": [
       "   Model  Type  2011   2012   2013   2014   2015     2016     2017   TOTAL\n",
       "0    NaN   NaN  9674   9819  22610  30200  17269  14006.0  11230.0  103578\n",
       "1    NaN   NaN  7671  23461  23094  18805  15393  24739.0  20349.0  113163\n",
       "2    NaN   NaN     0   2171  19000  16750  26200  29156.0  27060.0   93277\n",
       "3    NaN   NaN     0  12749  12088  13264   4191   2474.0  20936.0   44766\n",
       "4    NaN   NaN     0      0   6089  11550   9750  15938.0   9632.0   43327"
      ]
     },
     "execution_count": 174,
     "metadata": {},
     "output_type": "execute_result"
    }
   ],
   "source": [
    "yearlysales_df1 = yearlysales_df.apply(lambda x: pd.to_numeric(x.str.replace(',',''), errors='coerce'))\n",
    "yearlysales_df1.head()"
   ]
  },
  {
   "cell_type": "code",
   "execution_count": 178,
   "metadata": {},
   "outputs": [
    {
     "data": {
      "text/plain": [
       "2011     17731.0\n",
       "2012     53234.0\n",
       "2013     96702.0\n",
       "2014    118773.0\n",
       "2015    115079.0\n",
       "2016    144035.0\n",
       "2017    149484.0\n",
       "dtype: float64"
      ]
     },
     "execution_count": 178,
     "metadata": {},
     "output_type": "execute_result"
    }
   ],
   "source": [
    "Total_Purchases_df = yearlysales_df1[[\"2011\",\"2012\",\"2013\",\"2014\",\"2015\",\"2016\",\"2017\"]].sum()\n",
    "Total_Purchases_df"
   ]
  },
  {
   "cell_type": "code",
   "execution_count": null,
   "metadata": {
    "collapsed": true
   },
   "outputs": [],
   "source": []
  }
 ],
 "metadata": {
  "kernelspec": {
   "display_name": "Python 3",
   "language": "python",
   "name": "python3"
  },
  "language_info": {
   "codemirror_mode": {
    "name": "ipython",
    "version": 3
   },
   "file_extension": ".py",
   "mimetype": "text/x-python",
   "name": "python",
   "nbconvert_exporter": "python",
   "pygments_lexer": "ipython3",
   "version": "3.6.1"
  }
 },
 "nbformat": 4,
 "nbformat_minor": 2
}
