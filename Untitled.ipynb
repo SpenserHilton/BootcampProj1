{
 "cells": [
  {
   "cell_type": "code",
   "execution_count": 1,
   "metadata": {
    "collapsed": true
   },
   "outputs": [],
   "source": [
    "import matplotlib.pyplot as plt\n",
    "import numpy as np\n",
    "import pandas as pd"
   ]
  },
  {
   "cell_type": "code",
   "execution_count": 3,
   "metadata": {},
   "outputs": [
    {
     "data": {
      "text/html": [
       "<div>\n",
       "<style>\n",
       "    .dataframe thead tr:only-child th {\n",
       "        text-align: right;\n",
       "    }\n",
       "\n",
       "    .dataframe thead th {\n",
       "        text-align: left;\n",
       "    }\n",
       "\n",
       "    .dataframe tbody tr th {\n",
       "        vertical-align: top;\n",
       "    }\n",
       "</style>\n",
       "<table border=\"1\" class=\"dataframe\">\n",
       "  <thead>\n",
       "    <tr style=\"text-align: right;\">\n",
       "      <th></th>\n",
       "      <th>Years</th>\n",
       "      <th>Chevrolet-ev</th>\n",
       "      <th>Toyota-ev</th>\n",
       "      <th>Ford-ev</th>\n",
       "      <th>BMW-ev</th>\n",
       "      <th>Nissan-ev</th>\n",
       "      <th>Fiat-ev</th>\n",
       "      <th>Mercedez-ev</th>\n",
       "      <th>Chevrolet</th>\n",
       "      <th>Toyota</th>\n",
       "      <th>Ford</th>\n",
       "      <th>BMW</th>\n",
       "      <th>Nissan</th>\n",
       "      <th>Fiat</th>\n",
       "      <th>Mercedez</th>\n",
       "    </tr>\n",
       "  </thead>\n",
       "  <tbody>\n",
       "    <tr>\n",
       "      <th>0</th>\n",
       "      <td>2017</td>\n",
       "      <td>43640</td>\n",
       "      <td>20936</td>\n",
       "      <td>17772</td>\n",
       "      <td>19579</td>\n",
       "      <td>11230</td>\n",
       "      <td>5380</td>\n",
       "      <td>2221</td>\n",
       "      <td>2022239</td>\n",
       "      <td>2108241</td>\n",
       "      <td>2446269</td>\n",
       "      <td>286106</td>\n",
       "      <td>1428819</td>\n",
       "      <td>21112</td>\n",
       "      <td>370019</td>\n",
       "    </tr>\n",
       "    <tr>\n",
       "      <th>1</th>\n",
       "      <td>2016</td>\n",
       "      <td>27693</td>\n",
       "      <td>2474</td>\n",
       "      <td>901</td>\n",
       "      <td>10047</td>\n",
       "      <td>14006</td>\n",
       "      <td>5330</td>\n",
       "      <td>1524</td>\n",
       "      <td>2068815</td>\n",
       "      <td>2103858</td>\n",
       "      <td>2486586</td>\n",
       "      <td>303127</td>\n",
       "      <td>1412124</td>\n",
       "      <td>28447</td>\n",
       "      <td>373016</td>\n",
       "    </tr>\n",
       "    <tr>\n",
       "      <th>2</th>\n",
       "      <td>2015</td>\n",
       "      <td>18022</td>\n",
       "      <td>4191</td>\n",
       "      <td>17341</td>\n",
       "      <td>14181</td>\n",
       "      <td>17269</td>\n",
       "      <td>6194</td>\n",
       "      <td>2024</td>\n",
       "      <td>2107325</td>\n",
       "      <td>2094354</td>\n",
       "      <td>2484514</td>\n",
       "      <td>331842</td>\n",
       "      <td>1334151</td>\n",
       "      <td>36216</td>\n",
       "      <td>370953</td>\n",
       "    </tr>\n",
       "  </tbody>\n",
       "</table>\n",
       "</div>"
      ],
      "text/plain": [
       "   Years  Chevrolet-ev  Toyota-ev  Ford-ev  BMW-ev  Nissan-ev  Fiat-ev  \\\n",
       "0   2017         43640      20936    17772   19579      11230     5380   \n",
       "1   2016         27693       2474      901   10047      14006     5330   \n",
       "2   2015         18022       4191    17341   14181      17269     6194   \n",
       "\n",
       "   Mercedez-ev  Chevrolet   Toyota     Ford     BMW   Nissan   Fiat  Mercedez  \n",
       "0         2221    2022239  2108241  2446269  286106  1428819  21112    370019  \n",
       "1         1524    2068815  2103858  2486586  303127  1412124  28447    373016  \n",
       "2         2024    2107325  2094354  2484514  331842  1334151  36216    370953  "
      ]
     },
     "execution_count": 3,
     "metadata": {},
     "output_type": "execute_result"
    }
   ],
   "source": [
    "cars_df = pd.read_csv(\"Traditional-vs-Ev1-csv.csv\")\n",
    "cars_df.head()"
   ]
  },
  {
   "cell_type": "code",
   "execution_count": 14,
   "metadata": {},
   "outputs": [
    {
     "data": {
      "text/html": [
       "<div>\n",
       "<style>\n",
       "    .dataframe thead tr:only-child th {\n",
       "        text-align: right;\n",
       "    }\n",
       "\n",
       "    .dataframe thead th {\n",
       "        text-align: left;\n",
       "    }\n",
       "\n",
       "    .dataframe tbody tr th {\n",
       "        vertical-align: top;\n",
       "    }\n",
       "</style>\n",
       "<table border=\"1\" class=\"dataframe\">\n",
       "  <thead>\n",
       "    <tr style=\"text-align: right;\">\n",
       "      <th></th>\n",
       "      <th>Years</th>\n",
       "      <th>Chevrolet-ev</th>\n",
       "      <th>Toyota-ev</th>\n",
       "      <th>Ford-ev</th>\n",
       "      <th>BMW-ev</th>\n",
       "      <th>Nissan-ev</th>\n",
       "      <th>Fiat-ev</th>\n",
       "      <th>Mercedez-ev</th>\n",
       "    </tr>\n",
       "  </thead>\n",
       "  <tbody>\n",
       "    <tr>\n",
       "      <th>0</th>\n",
       "      <td>2017</td>\n",
       "      <td>43640</td>\n",
       "      <td>20936</td>\n",
       "      <td>17772</td>\n",
       "      <td>19579</td>\n",
       "      <td>11230</td>\n",
       "      <td>5380</td>\n",
       "      <td>2221</td>\n",
       "    </tr>\n",
       "    <tr>\n",
       "      <th>1</th>\n",
       "      <td>2016</td>\n",
       "      <td>27693</td>\n",
       "      <td>2474</td>\n",
       "      <td>901</td>\n",
       "      <td>10047</td>\n",
       "      <td>14006</td>\n",
       "      <td>5330</td>\n",
       "      <td>1524</td>\n",
       "    </tr>\n",
       "    <tr>\n",
       "      <th>2</th>\n",
       "      <td>2015</td>\n",
       "      <td>18022</td>\n",
       "      <td>4191</td>\n",
       "      <td>17341</td>\n",
       "      <td>14181</td>\n",
       "      <td>17269</td>\n",
       "      <td>6194</td>\n",
       "      <td>2024</td>\n",
       "    </tr>\n",
       "  </tbody>\n",
       "</table>\n",
       "</div>"
      ],
      "text/plain": [
       "   Years  Chevrolet-ev  Toyota-ev  Ford-ev  BMW-ev  Nissan-ev  Fiat-ev  \\\n",
       "0   2017         43640      20936    17772   19579      11230     5380   \n",
       "1   2016         27693       2474      901   10047      14006     5330   \n",
       "2   2015         18022       4191    17341   14181      17269     6194   \n",
       "\n",
       "   Mercedez-ev  \n",
       "0         2221  \n",
       "1         1524  \n",
       "2         2024  "
      ]
     },
     "execution_count": 14,
     "metadata": {},
     "output_type": "execute_result"
    }
   ],
   "source": [
    "ev_df = cars_df.iloc[:, 0:8]\n",
    "ev_df.head()"
   ]
  },
  {
   "cell_type": "code",
   "execution_count": 19,
   "metadata": {},
   "outputs": [
    {
     "data": {
      "text/html": [
       "<div>\n",
       "<style>\n",
       "    .dataframe thead tr:only-child th {\n",
       "        text-align: right;\n",
       "    }\n",
       "\n",
       "    .dataframe thead th {\n",
       "        text-align: left;\n",
       "    }\n",
       "\n",
       "    .dataframe tbody tr th {\n",
       "        vertical-align: top;\n",
       "    }\n",
       "</style>\n",
       "<table border=\"1\" class=\"dataframe\">\n",
       "  <thead>\n",
       "    <tr style=\"text-align: right;\">\n",
       "      <th></th>\n",
       "      <th>Years</th>\n",
       "      <th>Toyota</th>\n",
       "      <th>Ford</th>\n",
       "      <th>BMW</th>\n",
       "      <th>Nissan</th>\n",
       "      <th>Fiat</th>\n",
       "      <th>Mercedez</th>\n",
       "    </tr>\n",
       "  </thead>\n",
       "  <tbody>\n",
       "    <tr>\n",
       "      <th>0</th>\n",
       "      <td>2017</td>\n",
       "      <td>2108241</td>\n",
       "      <td>2446269</td>\n",
       "      <td>286106</td>\n",
       "      <td>1428819</td>\n",
       "      <td>21112</td>\n",
       "      <td>370019</td>\n",
       "    </tr>\n",
       "    <tr>\n",
       "      <th>1</th>\n",
       "      <td>2016</td>\n",
       "      <td>2103858</td>\n",
       "      <td>2486586</td>\n",
       "      <td>303127</td>\n",
       "      <td>1412124</td>\n",
       "      <td>28447</td>\n",
       "      <td>373016</td>\n",
       "    </tr>\n",
       "    <tr>\n",
       "      <th>2</th>\n",
       "      <td>2015</td>\n",
       "      <td>2094354</td>\n",
       "      <td>2484514</td>\n",
       "      <td>331842</td>\n",
       "      <td>1334151</td>\n",
       "      <td>36216</td>\n",
       "      <td>370953</td>\n",
       "    </tr>\n",
       "  </tbody>\n",
       "</table>\n",
       "</div>"
      ],
      "text/plain": [
       "   Years   Toyota     Ford     BMW   Nissan   Fiat  Mercedez\n",
       "0   2017  2108241  2446269  286106  1428819  21112    370019\n",
       "1   2016  2103858  2486586  303127  1412124  28447    373016\n",
       "2   2015  2094354  2484514  331842  1334151  36216    370953"
      ]
     },
     "execution_count": 19,
     "metadata": {},
     "output_type": "execute_result"
    }
   ],
   "source": [
    "traditonal_df = cars_df.iloc[:, [0, 9,10,11,12,13,14,]]\n",
    "traditonal_df.head()\n"
   ]
  },
  {
   "cell_type": "code",
   "execution_count": 21,
   "metadata": {},
   "outputs": [],
   "source": [
    "x_axis = np.arange(len(ev_df))\n",
    "tick_locations = [value+0.4 for value in x_axis]"
   ]
  },
  {
   "cell_type": "code",
   "execution_count": 22,
   "metadata": {},
   "outputs": [
    {
     "data": {
      "text/plain": [
       "([<matplotlib.axis.XTick at 0x11b9b7ef0>,\n",
       "  <matplotlib.axis.XTick at 0x11839f940>,\n",
       "  <matplotlib.axis.XTick at 0x11bb75ac8>],\n",
       " <a list of 3 Text xticklabel objects>)"
      ]
     },
     "execution_count": 22,
     "metadata": {},
     "output_type": "execute_result"
    }
   ],
   "source": [
    "plt.figure(figsize=(20,3))\n",
    "plt.bar(x_axis, ev_df[\"Years\"], color='r', alpha=0.5, align=\"edge\")\n",
    "plt.xticks(tick_locations, cars_df[\"Years\"], rotation=\"vertical\")"
   ]
  },
  {
   "cell_type": "code",
   "execution_count": 23,
   "metadata": {},
   "outputs": [
    {
     "data": {
      "text/plain": [
       "(0, 2027)"
      ]
     },
     "execution_count": 23,
     "metadata": {},
     "output_type": "execute_result"
    }
   ],
   "source": [
    "plt.xlim(-0.25, len(x_axis))\n",
    "plt.ylim(0, max(ev_df[\"Years\"])+10)"
   ]
  },
  {
   "cell_type": "code",
   "execution_count": 24,
   "metadata": {},
   "outputs": [
    {
     "data": {
      "text/plain": [
       "<matplotlib.text.Text at 0x11bb877b8>"
      ]
     },
     "execution_count": 24,
     "metadata": {},
     "output_type": "execute_result"
    }
   ],
   "source": [
    "plt.title(\"Traitional CarvSales vs Electric Car Sales\")\n",
    "plt.xlabel(\"Car Brands\")\n",
    "plt.ylabel(\"Total Sales\")"
   ]
  },
  {
   "cell_type": "code",
   "execution_count": 25,
   "metadata": {},
   "outputs": [
    {
     "data": {
      "image/png": "[encoded data removed]",
      "text/plain": [
       "<matplotlib.figure.Figure at 0x11b9f1c88>"
      ]
     },
     "metadata": {},
     "output_type": "display_data"
    }
   ],
   "source": [
    "plt.tight_layout()\n",
    "plt.savefig(\"ev.png\")\n",
    "plt.show()"
   ]
  }
 ],
 "metadata": {
  "kernelspec": {
   "display_name": "Python 3",
   "language": "python",
   "name": "python3"
  },
  "language_info": {
   "codemirror_mode": {
    "name": "ipython",
    "version": 3
   },
   "file_extension": ".py",
   "mimetype": "text/x-python",
   "name": "python",
   "nbconvert_exporter": "python",
   "pygments_lexer": "ipython3",
   "version": "3.6.1"
  }
 },
 "nbformat": 4,
 "nbformat_minor": 2
}
