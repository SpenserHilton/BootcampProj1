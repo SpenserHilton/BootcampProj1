{
 "cells": [
  {
   "cell_type": "code",
   "execution_count": 309,
   "metadata": {
    "collapsed": true
   },
   "outputs": [],
   "source": [
    "import pandas as pd\n",
    "import numpy as np\n",
    "import csv\n",
    "import string\n",
    "import matplotlib.pyplot as plt"
   ]
  },
  {
   "cell_type": "code",
   "execution_count": 310,
   "metadata": {
    "collapsed": true
   },
   "outputs": [],
   "source": [
    "yearlysales = \"EV Yearly sales.csv\""
   ]
  },
  {
   "cell_type": "code",
   "execution_count": 311,
   "metadata": {
    "collapsed": true
   },
   "outputs": [],
   "source": [
    "yearlysales_df= pd.read_csv(yearlysales,encoding = \"ISO-8859-1\",error_bad_lines=False)\n",
    "yearlysales_df=yearlysales_df[:-1]\n",
    "yearlysales_df.drop(['Model'], axis =1, inplace = True)\n",
    "yearlysales_df=yearlysales_df.loc[yearlysales_df['Type']=='EV']"
   ]
  },
  {
   "cell_type": "code",
   "execution_count": 312,
   "metadata": {},
   "outputs": [
    {
     "data": {
      "text/html": [
       "<div>\n",
       "<style>\n",
       "    .dataframe thead tr:only-child th {\n",
       "        text-align: right;\n",
       "    }\n",
       "\n",
       "    .dataframe thead th {\n",
       "        text-align: left;\n",
       "    }\n",
       "\n",
       "    .dataframe tbody tr th {\n",
       "        vertical-align: top;\n",
       "    }\n",
       "</style>\n",
       "<table border=\"1\" class=\"dataframe\">\n",
       "  <thead>\n",
       "    <tr style=\"text-align: right;\">\n",
       "      <th></th>\n",
       "      <th>Type</th>\n",
       "      <th>2011</th>\n",
       "      <th>2012</th>\n",
       "      <th>2013</th>\n",
       "      <th>2014</th>\n",
       "      <th>2015</th>\n",
       "      <th>2016</th>\n",
       "      <th>2017</th>\n",
       "      <th>TOTAL</th>\n",
       "    </tr>\n",
       "  </thead>\n",
       "  <tbody>\n",
       "    <tr>\n",
       "      <th>0</th>\n",
       "      <td>EV</td>\n",
       "      <td>9,674</td>\n",
       "      <td>9,819</td>\n",
       "      <td>22,610</td>\n",
       "      <td>30,200</td>\n",
       "      <td>17,269</td>\n",
       "      <td>14,006</td>\n",
       "      <td>11,230</td>\n",
       "      <td>103,578</td>\n",
       "    </tr>\n",
       "    <tr>\n",
       "      <th>2</th>\n",
       "      <td>EV</td>\n",
       "      <td>0</td>\n",
       "      <td>2,171</td>\n",
       "      <td>19,000</td>\n",
       "      <td>16,750</td>\n",
       "      <td>26,200</td>\n",
       "      <td>29,156</td>\n",
       "      <td>27,060</td>\n",
       "      <td>93,277</td>\n",
       "    </tr>\n",
       "    <tr>\n",
       "      <th>6</th>\n",
       "      <td>EV</td>\n",
       "      <td>0</td>\n",
       "      <td>0</td>\n",
       "      <td>0</td>\n",
       "      <td>6,092</td>\n",
       "      <td>11,004</td>\n",
       "      <td>7,625</td>\n",
       "      <td>6,276</td>\n",
       "      <td>24,721</td>\n",
       "    </tr>\n",
       "    <tr>\n",
       "      <th>7</th>\n",
       "      <td>EV</td>\n",
       "      <td>0</td>\n",
       "      <td>683</td>\n",
       "      <td>1,738</td>\n",
       "      <td>1,964</td>\n",
       "      <td>1,582</td>\n",
       "      <td>872</td>\n",
       "      <td>1,817</td>\n",
       "      <td>6,839</td>\n",
       "    </tr>\n",
       "    <tr>\n",
       "      <th>8</th>\n",
       "      <td>EV</td>\n",
       "      <td>0</td>\n",
       "      <td>0</td>\n",
       "      <td>260</td>\n",
       "      <td>1,503</td>\n",
       "      <td>4,569</td>\n",
       "      <td>3,897</td>\n",
       "      <td>5,380</td>\n",
       "      <td>10,229</td>\n",
       "    </tr>\n",
       "  </tbody>\n",
       "</table>\n",
       "</div>"
      ],
      "text/plain": [
       "  Type   2011   2012    2013    2014    2015    2016    2017    TOTAL\n",
       "0   EV  9,674  9,819  22,610  30,200  17,269  14,006  11,230  103,578\n",
       "2   EV      0  2,171  19,000  16,750  26,200  29,156  27,060   93,277\n",
       "6   EV      0      0       0   6,092  11,004   7,625   6,276   24,721\n",
       "7   EV      0    683   1,738   1,964   1,582     872   1,817    6,839\n",
       "8   EV      0      0     260   1,503   4,569   3,897   5,380   10,229"
      ]
     },
     "execution_count": 312,
     "metadata": {},
     "output_type": "execute_result"
    }
   ],
   "source": [
    "yearlysales_df.head()"
   ]
  },
  {
   "cell_type": "code",
   "execution_count": 313,
   "metadata": {},
   "outputs": [
    {
     "data": {
      "text/html": [
       "<div>\n",
       "<style>\n",
       "    .dataframe thead tr:only-child th {\n",
       "        text-align: right;\n",
       "    }\n",
       "\n",
       "    .dataframe thead th {\n",
       "        text-align: left;\n",
       "    }\n",
       "\n",
       "    .dataframe tbody tr th {\n",
       "        vertical-align: top;\n",
       "    }\n",
       "</style>\n",
       "<table border=\"1\" class=\"dataframe\">\n",
       "  <thead>\n",
       "    <tr style=\"text-align: right;\">\n",
       "      <th></th>\n",
       "      <th>Type</th>\n",
       "      <th>2011</th>\n",
       "      <th>2012</th>\n",
       "      <th>2013</th>\n",
       "      <th>2014</th>\n",
       "      <th>2015</th>\n",
       "      <th>2016</th>\n",
       "      <th>2017</th>\n",
       "      <th>TOTAL</th>\n",
       "    </tr>\n",
       "  </thead>\n",
       "  <tbody>\n",
       "    <tr>\n",
       "      <th>0</th>\n",
       "      <td>NaN</td>\n",
       "      <td>9674</td>\n",
       "      <td>9819</td>\n",
       "      <td>22610</td>\n",
       "      <td>30200</td>\n",
       "      <td>17269</td>\n",
       "      <td>14006</td>\n",
       "      <td>11230</td>\n",
       "      <td>103578</td>\n",
       "    </tr>\n",
       "    <tr>\n",
       "      <th>2</th>\n",
       "      <td>NaN</td>\n",
       "      <td>0</td>\n",
       "      <td>2171</td>\n",
       "      <td>19000</td>\n",
       "      <td>16750</td>\n",
       "      <td>26200</td>\n",
       "      <td>29156</td>\n",
       "      <td>27060</td>\n",
       "      <td>93277</td>\n",
       "    </tr>\n",
       "    <tr>\n",
       "      <th>6</th>\n",
       "      <td>NaN</td>\n",
       "      <td>0</td>\n",
       "      <td>0</td>\n",
       "      <td>0</td>\n",
       "      <td>6092</td>\n",
       "      <td>11004</td>\n",
       "      <td>7625</td>\n",
       "      <td>6276</td>\n",
       "      <td>24721</td>\n",
       "    </tr>\n",
       "    <tr>\n",
       "      <th>7</th>\n",
       "      <td>NaN</td>\n",
       "      <td>0</td>\n",
       "      <td>683</td>\n",
       "      <td>1738</td>\n",
       "      <td>1964</td>\n",
       "      <td>1582</td>\n",
       "      <td>872</td>\n",
       "      <td>1817</td>\n",
       "      <td>6839</td>\n",
       "    </tr>\n",
       "    <tr>\n",
       "      <th>8</th>\n",
       "      <td>NaN</td>\n",
       "      <td>0</td>\n",
       "      <td>0</td>\n",
       "      <td>260</td>\n",
       "      <td>1503</td>\n",
       "      <td>4569</td>\n",
       "      <td>3897</td>\n",
       "      <td>5380</td>\n",
       "      <td>10229</td>\n",
       "    </tr>\n",
       "  </tbody>\n",
       "</table>\n",
       "</div>"
      ],
      "text/plain": [
       "   Type  2011  2012   2013   2014   2015   2016   2017   TOTAL\n",
       "0   NaN  9674  9819  22610  30200  17269  14006  11230  103578\n",
       "2   NaN     0  2171  19000  16750  26200  29156  27060   93277\n",
       "6   NaN     0     0      0   6092  11004   7625   6276   24721\n",
       "7   NaN     0   683   1738   1964   1582    872   1817    6839\n",
       "8   NaN     0     0    260   1503   4569   3897   5380   10229"
      ]
     },
     "execution_count": 313,
     "metadata": {},
     "output_type": "execute_result"
    }
   ],
   "source": [
    "yearlysales_df1 = yearlysales_df.apply(lambda x: pd.to_numeric(x.str.replace(',',''), errors='coerce'))\n",
    "yearlysales_df1.head()"
   ]
  },
  {
   "cell_type": "code",
   "execution_count": 314,
   "metadata": {},
   "outputs": [
    {
     "data": {
      "text/plain": [
       "2011     9750\n",
       "2012    14648\n",
       "2013    47694\n",
       "2014    63416\n",
       "2015    72136\n",
       "2016    79730\n",
       "2017    81914\n",
       "dtype: int64"
      ]
     },
     "execution_count": 314,
     "metadata": {},
     "output_type": "execute_result"
    }
   ],
   "source": [
    "Total_Purchases_df = yearlysales_df1[[\"2011\",\"2012\",\"2013\",\"2014\",\"2015\",\"2016\",\"2017\"]].sum()\n",
    "Total_Purchases_df.head(7)"
   ]
  },
  {
   "cell_type": "code",
   "execution_count": 317,
   "metadata": {
    "scrolled": false
   },
   "outputs": [
    {
     "data": {
      "image/png": "[encoded data removed]",
      "text/plain": [
       "<matplotlib.figure.Figure at 0x1648d023400>"
      ]
     },
     "metadata": {},
     "output_type": "display_data"
    },
    {
     "data": {
      "image/png": "[encoded data removed]",
      "text/plain": [
       "<matplotlib.figure.Figure at 0x1649063f5f8>"
      ]
     },
     "metadata": {},
     "output_type": "display_data"
    }
   ],
   "source": [
    "Yearly_df = {'Years':[2011,2012,2013,2014,2015,2016,2017],'Vehicle Counts':[9750,14648,47694,63416,72136,79730,81914]} \n",
    "Yearlygraph_df_x = pd.DataFrame(data=Yearly_df)\n",
    "Yearlygraph_df_x.head(7)\n",
    "Yearlygraph_df_x.plot(x=\"Years\",y=\"Vehicle Counts\", marker=\"+\",color=\"blue\", linewidth=1, label=\"Yearly Sales Trend\")\n",
    "plt.title(\"EV's Yearly Graph\",fontsize=15)\n",
    "plt.xlabel(\"Years\",fontsize=15)\n",
    "plt.ylabel(\"Yearly Vehicle Sales\",fontsize=15)\n",
    "plt.legend(loc=\"best\")\n",
    "plt.savefig('EVs Year Sales.PNG')\n",
    "plt.show()"
   ]
  },
  {
   "cell_type": "code",
   "execution_count": null,
   "metadata": {
    "collapsed": true
   },
   "outputs": [],
   "source": []
  }
 ],
 "metadata": {
  "kernelspec": {
   "display_name": "Python 3",
   "language": "python",
   "name": "python3"
  },
  "language_info": {
   "codemirror_mode": {
    "name": "ipython",
    "version": 3
   },
   "file_extension": ".py",
   "mimetype": "text/x-python",
   "name": "python",
   "nbconvert_exporter": "python",
   "pygments_lexer": "ipython3",
   "version": "3.6.1"
  }
 },
 "nbformat": 4,
 "nbformat_minor": 2
}
