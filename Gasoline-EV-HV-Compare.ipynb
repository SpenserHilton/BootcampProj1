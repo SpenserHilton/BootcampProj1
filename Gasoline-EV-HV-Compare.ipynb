{
 "cells": [
  {
   "cell_type": "code",
   "execution_count": 1,
   "metadata": {
    "collapsed": true
   },
   "outputs": [],
   "source": [
    "import pandas as pd\n",
    "import numpy as np\n",
    "import csv\n",
    "import string\n",
    "import matplotlib.pyplot as plt"
   ]
  },
  {
   "cell_type": "code",
   "execution_count": 2,
   "metadata": {
    "collapsed": true
   },
   "outputs": [],
   "source": [
    "EVHVsales = \"EV Yearly sales.csv\""
   ]
  },
  {
   "cell_type": "code",
   "execution_count": 3,
   "metadata": {
    "collapsed": true
   },
   "outputs": [],
   "source": [
    "Gassales = \"Gas Yearly Sales.csv\""
   ]
  },
  {
   "cell_type": "code",
   "execution_count": 4,
   "metadata": {
    "collapsed": true
   },
   "outputs": [],
   "source": [
    "EVHVsales_df= pd.read_csv(EVHVsales,encoding = \"ISO-8859-1\")\n"
   ]
  },
  {
   "cell_type": "code",
   "execution_count": 5,
   "metadata": {},
   "outputs": [
    {
     "data": {
      "text/html": [
       "<div>\n",
       "<style>\n",
       "    .dataframe thead tr:only-child th {\n",
       "        text-align: right;\n",
       "    }\n",
       "\n",
       "    .dataframe thead th {\n",
       "        text-align: left;\n",
       "    }\n",
       "\n",
       "    .dataframe tbody tr th {\n",
       "        vertical-align: top;\n",
       "    }\n",
       "</style>\n",
       "<table border=\"1\" class=\"dataframe\">\n",
       "  <thead>\n",
       "    <tr style=\"text-align: right;\">\n",
       "      <th></th>\n",
       "      <th>Make</th>\n",
       "      <th>Type</th>\n",
       "      <th>2015</th>\n",
       "      <th>2016</th>\n",
       "      <th>2017</th>\n",
       "    </tr>\n",
       "  </thead>\n",
       "  <tbody>\n",
       "    <tr>\n",
       "      <th>0</th>\n",
       "      <td>BMW</td>\n",
       "      <td>Gasoline</td>\n",
       "      <td>331842</td>\n",
       "      <td>303127</td>\n",
       "      <td>286106</td>\n",
       "    </tr>\n",
       "    <tr>\n",
       "      <th>1</th>\n",
       "      <td>Chevrolet</td>\n",
       "      <td>Gasoline</td>\n",
       "      <td>2107325</td>\n",
       "      <td>2068815</td>\n",
       "      <td>2022239</td>\n",
       "    </tr>\n",
       "    <tr>\n",
       "      <th>2</th>\n",
       "      <td>Fiat</td>\n",
       "      <td>Gasoline</td>\n",
       "      <td>36216</td>\n",
       "      <td>28447</td>\n",
       "      <td>21112</td>\n",
       "    </tr>\n",
       "    <tr>\n",
       "      <th>3</th>\n",
       "      <td>Ford</td>\n",
       "      <td>Gasoline</td>\n",
       "      <td>2484514</td>\n",
       "      <td>2486586</td>\n",
       "      <td>2446269</td>\n",
       "    </tr>\n",
       "    <tr>\n",
       "      <th>4</th>\n",
       "      <td>Mercedez</td>\n",
       "      <td>Gasoline</td>\n",
       "      <td>370953</td>\n",
       "      <td>373016</td>\n",
       "      <td>370019</td>\n",
       "    </tr>\n",
       "  </tbody>\n",
       "</table>\n",
       "</div>"
      ],
      "text/plain": [
       "        Make      Type     2015     2016     2017\n",
       "0        BMW  Gasoline   331842   303127   286106\n",
       "1  Chevrolet  Gasoline  2107325  2068815  2022239\n",
       "2       Fiat  Gasoline    36216    28447    21112\n",
       "3       Ford  Gasoline  2484514  2486586  2446269\n",
       "4   Mercedez  Gasoline   370953   373016   370019"
      ]
     },
     "execution_count": 5,
     "metadata": {},
     "output_type": "execute_result"
    }
   ],
   "source": [
    "EVHVsales_df.head()\n",
    "Gassales_df=pd.read_csv(Gassales,encoding = \"ISO-8859-1\")\n",
    "Gassales_df.head()"
   ]
  },
  {
   "cell_type": "code",
   "execution_count": 6,
   "metadata": {},
   "outputs": [
    {
     "data": {
      "text/html": [
       "<div>\n",
       "<style>\n",
       "    .dataframe thead tr:only-child th {\n",
       "        text-align: right;\n",
       "    }\n",
       "\n",
       "    .dataframe thead th {\n",
       "        text-align: left;\n",
       "    }\n",
       "\n",
       "    .dataframe tbody tr th {\n",
       "        vertical-align: top;\n",
       "    }\n",
       "</style>\n",
       "<table border=\"1\" class=\"dataframe\">\n",
       "  <thead>\n",
       "    <tr style=\"text-align: right;\">\n",
       "      <th></th>\n",
       "      <th>Model</th>\n",
       "      <th>Type</th>\n",
       "      <th>2011</th>\n",
       "      <th>2012</th>\n",
       "      <th>2013</th>\n",
       "      <th>2014</th>\n",
       "      <th>2015</th>\n",
       "      <th>2016</th>\n",
       "      <th>2017</th>\n",
       "      <th>TOTAL</th>\n",
       "    </tr>\n",
       "  </thead>\n",
       "  <tbody>\n",
       "    <tr>\n",
       "      <th>0</th>\n",
       "      <td>Nissan LEAF</td>\n",
       "      <td>EV</td>\n",
       "      <td>9,674</td>\n",
       "      <td>9,819</td>\n",
       "      <td>22,610</td>\n",
       "      <td>30,200</td>\n",
       "      <td>17,269</td>\n",
       "      <td>14,006</td>\n",
       "      <td>11,230</td>\n",
       "      <td>114,808</td>\n",
       "    </tr>\n",
       "    <tr>\n",
       "      <th>1</th>\n",
       "      <td>Chevrolet Volt PHEV</td>\n",
       "      <td>PHEV</td>\n",
       "      <td>7,671</td>\n",
       "      <td>23,461</td>\n",
       "      <td>23,094</td>\n",
       "      <td>18,805</td>\n",
       "      <td>15,393</td>\n",
       "      <td>24,739</td>\n",
       "      <td>20,349</td>\n",
       "      <td>133,512</td>\n",
       "    </tr>\n",
       "    <tr>\n",
       "      <th>2</th>\n",
       "      <td>Tesla Model S</td>\n",
       "      <td>EV</td>\n",
       "      <td>0</td>\n",
       "      <td>2,171</td>\n",
       "      <td>19,000</td>\n",
       "      <td>16,750</td>\n",
       "      <td>26,200</td>\n",
       "      <td>29,156</td>\n",
       "      <td>27,060</td>\n",
       "      <td>120,337</td>\n",
       "    </tr>\n",
       "    <tr>\n",
       "      <th>3</th>\n",
       "      <td>Toyota Prius Prime Plug-in</td>\n",
       "      <td>PHEV</td>\n",
       "      <td>0</td>\n",
       "      <td>12,749</td>\n",
       "      <td>12,088</td>\n",
       "      <td>13,264</td>\n",
       "      <td>4,191</td>\n",
       "      <td>2,474</td>\n",
       "      <td>20,936</td>\n",
       "      <td>65,702</td>\n",
       "    </tr>\n",
       "    <tr>\n",
       "      <th>4</th>\n",
       "      <td>Ford Fusion Energi</td>\n",
       "      <td>PHEV</td>\n",
       "      <td>0</td>\n",
       "      <td>0</td>\n",
       "      <td>6,089</td>\n",
       "      <td>11,550</td>\n",
       "      <td>9,750</td>\n",
       "      <td>15,938</td>\n",
       "      <td>9,632</td>\n",
       "      <td>52,959</td>\n",
       "    </tr>\n",
       "  </tbody>\n",
       "</table>\n",
       "</div>"
      ],
      "text/plain": [
       "                        Model  Type   2011    2012    2013    2014    2015  \\\n",
       "0                 Nissan LEAF    EV  9,674   9,819  22,610  30,200  17,269   \n",
       "1         Chevrolet Volt PHEV  PHEV  7,671  23,461  23,094  18,805  15,393   \n",
       "2               Tesla Model S    EV      0   2,171  19,000  16,750  26,200   \n",
       "3  Toyota Prius Prime Plug-in  PHEV      0  12,749  12,088  13,264   4,191   \n",
       "4          Ford Fusion Energi  PHEV      0       0   6,089  11,550   9,750   \n",
       "\n",
       "     2016    2017    TOTAL  \n",
       "0  14,006  11,230  114,808  \n",
       "1  24,739  20,349  133,512  \n",
       "2  29,156  27,060  120,337  \n",
       "3   2,474  20,936   65,702  \n",
       "4  15,938   9,632   52,959  "
      ]
     },
     "execution_count": 6,
     "metadata": {},
     "output_type": "execute_result"
    }
   ],
   "source": [
    "EVHVsales_df.Model.str[0:4]\n",
    "EVHVsales_df.head()"
   ]
  },
  {
   "cell_type": "code",
   "execution_count": 7,
   "metadata": {
    "collapsed": true
   },
   "outputs": [],
   "source": [
    "EVsales_df = EVHVsales_df[EVHVsales_df.Type == \"EV\"]"
   ]
  },
  {
   "cell_type": "code",
   "execution_count": 8,
   "metadata": {},
   "outputs": [
    {
     "data": {
      "text/html": [
       "<div>\n",
       "<style>\n",
       "    .dataframe thead tr:only-child th {\n",
       "        text-align: right;\n",
       "    }\n",
       "\n",
       "    .dataframe thead th {\n",
       "        text-align: left;\n",
       "    }\n",
       "\n",
       "    .dataframe tbody tr th {\n",
       "        vertical-align: top;\n",
       "    }\n",
       "</style>\n",
       "<table border=\"1\" class=\"dataframe\">\n",
       "  <thead>\n",
       "    <tr style=\"text-align: right;\">\n",
       "      <th></th>\n",
       "      <th>Model</th>\n",
       "      <th>Type</th>\n",
       "      <th>2011</th>\n",
       "      <th>2012</th>\n",
       "      <th>2013</th>\n",
       "      <th>2014</th>\n",
       "      <th>2015</th>\n",
       "      <th>2016</th>\n",
       "      <th>2017</th>\n",
       "      <th>TOTAL</th>\n",
       "    </tr>\n",
       "  </thead>\n",
       "  <tbody>\n",
       "    <tr>\n",
       "      <th>0</th>\n",
       "      <td>Nissan LEAF</td>\n",
       "      <td>EV</td>\n",
       "      <td>9,674</td>\n",
       "      <td>9,819</td>\n",
       "      <td>22,610</td>\n",
       "      <td>30,200</td>\n",
       "      <td>17,269</td>\n",
       "      <td>14,006</td>\n",
       "      <td>11,230</td>\n",
       "      <td>114,808</td>\n",
       "    </tr>\n",
       "    <tr>\n",
       "      <th>2</th>\n",
       "      <td>Tesla Model S</td>\n",
       "      <td>EV</td>\n",
       "      <td>0</td>\n",
       "      <td>2,171</td>\n",
       "      <td>19,000</td>\n",
       "      <td>16,750</td>\n",
       "      <td>26,200</td>\n",
       "      <td>29,156</td>\n",
       "      <td>27,060</td>\n",
       "      <td>120,337</td>\n",
       "    </tr>\n",
       "    <tr>\n",
       "      <th>6</th>\n",
       "      <td>BMW i3</td>\n",
       "      <td>EV</td>\n",
       "      <td>0</td>\n",
       "      <td>0</td>\n",
       "      <td>0</td>\n",
       "      <td>6,092</td>\n",
       "      <td>11,004</td>\n",
       "      <td>7,625</td>\n",
       "      <td>6,276</td>\n",
       "      <td>30,997</td>\n",
       "    </tr>\n",
       "    <tr>\n",
       "      <th>7</th>\n",
       "      <td>Ford Focus EV</td>\n",
       "      <td>EV</td>\n",
       "      <td>0</td>\n",
       "      <td>683</td>\n",
       "      <td>1,738</td>\n",
       "      <td>1,964</td>\n",
       "      <td>1,582</td>\n",
       "      <td>872</td>\n",
       "      <td>1,817</td>\n",
       "      <td>8,656</td>\n",
       "    </tr>\n",
       "    <tr>\n",
       "      <th>8</th>\n",
       "      <td>Fiat 500E</td>\n",
       "      <td>EV</td>\n",
       "      <td>0</td>\n",
       "      <td>0</td>\n",
       "      <td>260</td>\n",
       "      <td>1,503</td>\n",
       "      <td>4,569</td>\n",
       "      <td>3,897</td>\n",
       "      <td>5,380</td>\n",
       "      <td>15,609</td>\n",
       "    </tr>\n",
       "  </tbody>\n",
       "</table>\n",
       "</div>"
      ],
      "text/plain": [
       "           Model Type   2011   2012    2013    2014    2015    2016    2017  \\\n",
       "0    Nissan LEAF   EV  9,674  9,819  22,610  30,200  17,269  14,006  11,230   \n",
       "2  Tesla Model S   EV      0  2,171  19,000  16,750  26,200  29,156  27,060   \n",
       "6         BMW i3   EV      0      0       0   6,092  11,004   7,625   6,276   \n",
       "7  Ford Focus EV   EV      0    683   1,738   1,964   1,582     872   1,817   \n",
       "8      Fiat 500E   EV      0      0     260   1,503   4,569   3,897   5,380   \n",
       "\n",
       "     TOTAL  \n",
       "0  114,808  \n",
       "2  120,337  \n",
       "6   30,997  \n",
       "7    8,656  \n",
       "8   15,609  "
      ]
     },
     "execution_count": 8,
     "metadata": {},
     "output_type": "execute_result"
    }
   ],
   "source": [
    "EVsales_df.head()\n"
   ]
  },
  {
   "cell_type": "code",
   "execution_count": 9,
   "metadata": {},
   "outputs": [
    {
     "data": {
      "text/html": [
       "<div>\n",
       "<style>\n",
       "    .dataframe thead tr:only-child th {\n",
       "        text-align: right;\n",
       "    }\n",
       "\n",
       "    .dataframe thead th {\n",
       "        text-align: left;\n",
       "    }\n",
       "\n",
       "    .dataframe tbody tr th {\n",
       "        vertical-align: top;\n",
       "    }\n",
       "</style>\n",
       "<table border=\"1\" class=\"dataframe\">\n",
       "  <thead>\n",
       "    <tr style=\"text-align: right;\">\n",
       "      <th></th>\n",
       "      <th>Model</th>\n",
       "      <th>Type</th>\n",
       "      <th>2011</th>\n",
       "      <th>2012</th>\n",
       "      <th>2013</th>\n",
       "      <th>2014</th>\n",
       "      <th>2015</th>\n",
       "      <th>2016</th>\n",
       "      <th>2017</th>\n",
       "      <th>TOTAL</th>\n",
       "    </tr>\n",
       "  </thead>\n",
       "  <tbody>\n",
       "    <tr>\n",
       "      <th>1</th>\n",
       "      <td>Chevrolet Volt PHEV</td>\n",
       "      <td>PHEV</td>\n",
       "      <td>7,671</td>\n",
       "      <td>23,461</td>\n",
       "      <td>23,094</td>\n",
       "      <td>18,805</td>\n",
       "      <td>15,393</td>\n",
       "      <td>24,739</td>\n",
       "      <td>20,349</td>\n",
       "      <td>133,512</td>\n",
       "    </tr>\n",
       "    <tr>\n",
       "      <th>3</th>\n",
       "      <td>Toyota Prius Prime Plug-in</td>\n",
       "      <td>PHEV</td>\n",
       "      <td>0</td>\n",
       "      <td>12,749</td>\n",
       "      <td>12,088</td>\n",
       "      <td>13,264</td>\n",
       "      <td>4,191</td>\n",
       "      <td>2,474</td>\n",
       "      <td>20,936</td>\n",
       "      <td>65,702</td>\n",
       "    </tr>\n",
       "    <tr>\n",
       "      <th>4</th>\n",
       "      <td>Ford Fusion Energi</td>\n",
       "      <td>PHEV</td>\n",
       "      <td>0</td>\n",
       "      <td>0</td>\n",
       "      <td>6,089</td>\n",
       "      <td>11,550</td>\n",
       "      <td>9,750</td>\n",
       "      <td>15,938</td>\n",
       "      <td>9,632</td>\n",
       "      <td>52,959</td>\n",
       "    </tr>\n",
       "    <tr>\n",
       "      <th>5</th>\n",
       "      <td>Ford C-MAX Energi PHEV</td>\n",
       "      <td>PHEV</td>\n",
       "      <td>0</td>\n",
       "      <td>2,374</td>\n",
       "      <td>7,154</td>\n",
       "      <td>8,433</td>\n",
       "      <td>7,591</td>\n",
       "      <td>7,957</td>\n",
       "      <td>8,140</td>\n",
       "      <td>41,649</td>\n",
       "    </tr>\n",
       "    <tr>\n",
       "      <th>12</th>\n",
       "      <td>BMW i8</td>\n",
       "      <td>PHEV</td>\n",
       "      <td>0</td>\n",
       "      <td>0</td>\n",
       "      <td>0</td>\n",
       "      <td>555</td>\n",
       "      <td>2,265</td>\n",
       "      <td>1,594</td>\n",
       "      <td>488</td>\n",
       "      <td>4,902</td>\n",
       "    </tr>\n",
       "  </tbody>\n",
       "</table>\n",
       "</div>"
      ],
      "text/plain": [
       "                         Model  Type   2011    2012    2013    2014    2015  \\\n",
       "1          Chevrolet Volt PHEV  PHEV  7,671  23,461  23,094  18,805  15,393   \n",
       "3   Toyota Prius Prime Plug-in  PHEV      0  12,749  12,088  13,264   4,191   \n",
       "4           Ford Fusion Energi  PHEV      0       0   6,089  11,550   9,750   \n",
       "5       Ford C-MAX Energi PHEV  PHEV      0   2,374   7,154   8,433   7,591   \n",
       "12                      BMW i8  PHEV      0       0       0     555   2,265   \n",
       "\n",
       "      2016    2017    TOTAL  \n",
       "1   24,739  20,349  133,512  \n",
       "3    2,474  20,936   65,702  \n",
       "4   15,938   9,632   52,959  \n",
       "5    7,957   8,140   41,649  \n",
       "12   1,594     488    4,902  "
      ]
     },
     "execution_count": 9,
     "metadata": {},
     "output_type": "execute_result"
    }
   ],
   "source": [
    "HVsales_df = EVHVsales_df[EVHVsales_df.Type == \"PHEV\"]\n",
    "HVsales_df.head()"
   ]
  },
  {
   "cell_type": "code",
   "execution_count": 10,
   "metadata": {},
   "outputs": [
    {
     "data": {
      "text/plain": [
       "2011                                 9,674000000000760000\n",
       "2012                   9,8192,171068301370001925880939650\n",
       "2013        22,61019,00001,738260923056001,0051,029056900\n",
       "2014    30,20016,7506,0921,9641,5032,5943571,1457741,1...\n",
       "2015    17,26926,20011,0041,5824,5691,3874,2322,6291,9...\n",
       "2016    14,00629,1567,6258723,89765703,0356320941,7280...\n",
       "2017    11,23027,0606,2761,8175,3805443,53423744062,15...\n",
       "dtype: object"
      ]
     },
     "execution_count": 10,
     "metadata": {},
     "output_type": "execute_result"
    }
   ],
   "source": [
    "EV_Purchases_df = EVsales_df[[\"2011\",\"2012\",\"2013\",\"2014\",\"2015\",\"2016\",\"2017\"]].sum()\n",
    "EV_Purchases_df.head(7)"
   ]
  },
  {
   "cell_type": "code",
   "execution_count": 11,
   "metadata": {},
   "outputs": [
    {
     "data": {
      "text/plain": [
       "2011                                  7,67100000000031000\n",
       "2012                          23,46112,74902,374000000200\n",
       "2013                   23,09412,0886,0897,154065105260000\n",
       "2014         18,80513,26411,5508,4335551,3108791124490000\n",
       "2015    15,3934,1919,7507,5912,2651,0244071,1636389201...\n",
       "2016    24,7392,47415,9387,9571,5945343932,11105,99505...\n",
       "2017    20,34920,9369,6328,14048817181,5749033,7725446...\n",
       "dtype: object"
      ]
     },
     "execution_count": 11,
     "metadata": {},
     "output_type": "execute_result"
    }
   ],
   "source": [
    "HV_Purchases_df = HVsales_df[[\"2011\",\"2012\",\"2013\",\"2014\",\"2015\",\"2016\",\"2017\"]].sum()\n",
    "HV_Purchases_df.head(7)"
   ]
  },
  {
   "cell_type": "code",
   "execution_count": 12,
   "metadata": {},
   "outputs": [
    {
     "data": {
      "text/html": [
       "<div>\n",
       "<style>\n",
       "    .dataframe thead tr:only-child th {\n",
       "        text-align: right;\n",
       "    }\n",
       "\n",
       "    .dataframe thead th {\n",
       "        text-align: left;\n",
       "    }\n",
       "\n",
       "    .dataframe tbody tr th {\n",
       "        vertical-align: top;\n",
       "    }\n",
       "</style>\n",
       "<table border=\"1\" class=\"dataframe\">\n",
       "  <thead>\n",
       "    <tr style=\"text-align: right;\">\n",
       "      <th></th>\n",
       "      <th>HV Vehicle Counts</th>\n",
       "      <th>Years</th>\n",
       "    </tr>\n",
       "  </thead>\n",
       "  <tbody>\n",
       "    <tr>\n",
       "      <th>0</th>\n",
       "      <td>7981</td>\n",
       "      <td>2011</td>\n",
       "    </tr>\n",
       "    <tr>\n",
       "      <th>1</th>\n",
       "      <td>38586</td>\n",
       "      <td>2012</td>\n",
       "    </tr>\n",
       "    <tr>\n",
       "      <th>2</th>\n",
       "      <td>49008</td>\n",
       "      <td>2013</td>\n",
       "    </tr>\n",
       "    <tr>\n",
       "      <th>3</th>\n",
       "      <td>55357</td>\n",
       "      <td>2014</td>\n",
       "    </tr>\n",
       "    <tr>\n",
       "      <th>4</th>\n",
       "      <td>42943</td>\n",
       "      <td>2015</td>\n",
       "    </tr>\n",
       "    <tr>\n",
       "      <th>5</th>\n",
       "      <td>64305</td>\n",
       "      <td>2016</td>\n",
       "    </tr>\n",
       "    <tr>\n",
       "      <th>6</th>\n",
       "      <td>67570</td>\n",
       "      <td>2017</td>\n",
       "    </tr>\n",
       "  </tbody>\n",
       "</table>\n",
       "</div>"
      ],
      "text/plain": [
       "   HV Vehicle Counts  Years\n",
       "0               7981   2011\n",
       "1              38586   2012\n",
       "2              49008   2013\n",
       "3              55357   2014\n",
       "4              42943   2015\n",
       "5              64305   2016\n",
       "6              67570   2017"
      ]
     },
     "execution_count": 12,
     "metadata": {},
     "output_type": "execute_result"
    }
   ],
   "source": [
    "HVYearly_df = {'Years':[2011,2012,2013,2014,2015,2016,2017],'HV Vehicle Counts':[7981, 38586, 49008, 55357, 42943, 64305, 67570]}\n",
    "HVgraph_df_x = pd.DataFrame(data=HVYearly_df)\n",
    "HVgraph_df_x.head(7)"
   ]
  },
  {
   "cell_type": "code",
   "execution_count": null,
   "metadata": {
    "collapsed": true
   },
   "outputs": [],
   "source": []
  },
  {
   "cell_type": "code",
   "execution_count": 13,
   "metadata": {},
   "outputs": [
    {
     "data": {
      "text/html": [
       "<div>\n",
       "<style>\n",
       "    .dataframe thead tr:only-child th {\n",
       "        text-align: right;\n",
       "    }\n",
       "\n",
       "    .dataframe thead th {\n",
       "        text-align: left;\n",
       "    }\n",
       "\n",
       "    .dataframe tbody tr th {\n",
       "        vertical-align: top;\n",
       "    }\n",
       "</style>\n",
       "<table border=\"1\" class=\"dataframe\">\n",
       "  <thead>\n",
       "    <tr style=\"text-align: right;\">\n",
       "      <th></th>\n",
       "      <th>EV Vehicle Counts</th>\n",
       "      <th>Years</th>\n",
       "    </tr>\n",
       "  </thead>\n",
       "  <tbody>\n",
       "    <tr>\n",
       "      <th>0</th>\n",
       "      <td>9750</td>\n",
       "      <td>2011</td>\n",
       "    </tr>\n",
       "    <tr>\n",
       "      <th>1</th>\n",
       "      <td>14648</td>\n",
       "      <td>2012</td>\n",
       "    </tr>\n",
       "    <tr>\n",
       "      <th>2</th>\n",
       "      <td>47694</td>\n",
       "      <td>2013</td>\n",
       "    </tr>\n",
       "    <tr>\n",
       "      <th>3</th>\n",
       "      <td>63416</td>\n",
       "      <td>2014</td>\n",
       "    </tr>\n",
       "    <tr>\n",
       "      <th>4</th>\n",
       "      <td>72136</td>\n",
       "      <td>2015</td>\n",
       "    </tr>\n",
       "    <tr>\n",
       "      <th>5</th>\n",
       "      <td>79730</td>\n",
       "      <td>2016</td>\n",
       "    </tr>\n",
       "    <tr>\n",
       "      <th>6</th>\n",
       "      <td>81914</td>\n",
       "      <td>2017</td>\n",
       "    </tr>\n",
       "  </tbody>\n",
       "</table>\n",
       "</div>"
      ],
      "text/plain": [
       "   EV Vehicle Counts  Years\n",
       "0               9750   2011\n",
       "1              14648   2012\n",
       "2              47694   2013\n",
       "3              63416   2014\n",
       "4              72136   2015\n",
       "5              79730   2016\n",
       "6              81914   2017"
      ]
     },
     "execution_count": 13,
     "metadata": {},
     "output_type": "execute_result"
    }
   ],
   "source": [
    "EVYearly_df = {'Years':[2011,2012,2013,2014,2015,2016,2017],'EV Vehicle Counts':[9750,14648, 47694,63416, 72136, 79730, 81914]}\n",
    "EVgraph_df_x = pd.DataFrame(data=EVYearly_df)\n",
    "EVgraph_df_x.head(7)\n",
    "\n"
   ]
  },
  {
   "cell_type": "code",
   "execution_count": 14,
   "metadata": {},
   "outputs": [
    {
     "data": {
      "text/html": [
       "<div>\n",
       "<style>\n",
       "    .dataframe thead tr:only-child th {\n",
       "        text-align: right;\n",
       "    }\n",
       "\n",
       "    .dataframe thead th {\n",
       "        text-align: left;\n",
       "    }\n",
       "\n",
       "    .dataframe tbody tr th {\n",
       "        vertical-align: top;\n",
       "    }\n",
       "</style>\n",
       "<table border=\"1\" class=\"dataframe\">\n",
       "  <thead>\n",
       "    <tr style=\"text-align: right;\">\n",
       "      <th></th>\n",
       "      <th>Make</th>\n",
       "      <th>Type</th>\n",
       "      <th>2015</th>\n",
       "      <th>2016</th>\n",
       "      <th>2017</th>\n",
       "    </tr>\n",
       "  </thead>\n",
       "  <tbody>\n",
       "    <tr>\n",
       "      <th>0</th>\n",
       "      <td>BMW</td>\n",
       "      <td>Gasoline</td>\n",
       "      <td>331842</td>\n",
       "      <td>303127</td>\n",
       "      <td>286106</td>\n",
       "    </tr>\n",
       "    <tr>\n",
       "      <th>1</th>\n",
       "      <td>Chevrolet</td>\n",
       "      <td>Gasoline</td>\n",
       "      <td>2107325</td>\n",
       "      <td>2068815</td>\n",
       "      <td>2022239</td>\n",
       "    </tr>\n",
       "    <tr>\n",
       "      <th>2</th>\n",
       "      <td>Fiat</td>\n",
       "      <td>Gasoline</td>\n",
       "      <td>36216</td>\n",
       "      <td>28447</td>\n",
       "      <td>21112</td>\n",
       "    </tr>\n",
       "    <tr>\n",
       "      <th>3</th>\n",
       "      <td>Ford</td>\n",
       "      <td>Gasoline</td>\n",
       "      <td>2484514</td>\n",
       "      <td>2486586</td>\n",
       "      <td>2446269</td>\n",
       "    </tr>\n",
       "    <tr>\n",
       "      <th>4</th>\n",
       "      <td>Mercedez</td>\n",
       "      <td>Gasoline</td>\n",
       "      <td>370953</td>\n",
       "      <td>373016</td>\n",
       "      <td>370019</td>\n",
       "    </tr>\n",
       "  </tbody>\n",
       "</table>\n",
       "</div>"
      ],
      "text/plain": [
       "        Make      Type     2015     2016     2017\n",
       "0        BMW  Gasoline   331842   303127   286106\n",
       "1  Chevrolet  Gasoline  2107325  2068815  2022239\n",
       "2       Fiat  Gasoline    36216    28447    21112\n",
       "3       Ford  Gasoline  2484514  2486586  2446269\n",
       "4   Mercedez  Gasoline   370953   373016   370019"
      ]
     },
     "execution_count": 14,
     "metadata": {},
     "output_type": "execute_result"
    }
   ],
   "source": [
    "Gassales_df= pd.read_csv(Gassales,encoding = \"ISO-8859-1\")\n",
    "\n",
    "Gassales_df.head()"
   ]
  },
  {
   "cell_type": "code",
   "execution_count": 15,
   "metadata": {},
   "outputs": [
    {
     "data": {
      "text/plain": [
       "2015    8759355\n",
       "2016    8775973\n",
       "2017    8682805\n",
       "dtype: int64"
      ]
     },
     "execution_count": 15,
     "metadata": {},
     "output_type": "execute_result"
    }
   ],
   "source": [
    "Gas_Purchases_df = Gassales_df[[\"2015\",\"2016\",\"2017\"]].sum()\n",
    "Gas_Purchases_df.head(7)"
   ]
  },
  {
   "cell_type": "code",
   "execution_count": 16,
   "metadata": {},
   "outputs": [
    {
     "data": {
      "text/html": [
       "<div>\n",
       "<style>\n",
       "    .dataframe thead tr:only-child th {\n",
       "        text-align: right;\n",
       "    }\n",
       "\n",
       "    .dataframe thead th {\n",
       "        text-align: left;\n",
       "    }\n",
       "\n",
       "    .dataframe tbody tr th {\n",
       "        vertical-align: top;\n",
       "    }\n",
       "</style>\n",
       "<table border=\"1\" class=\"dataframe\">\n",
       "  <thead>\n",
       "    <tr style=\"text-align: right;\">\n",
       "      <th></th>\n",
       "      <th>Vehicle Counts</th>\n",
       "      <th>Years</th>\n",
       "    </tr>\n",
       "  </thead>\n",
       "  <tbody>\n",
       "    <tr>\n",
       "      <th>0</th>\n",
       "      <td>8759355</td>\n",
       "      <td>2015</td>\n",
       "    </tr>\n",
       "    <tr>\n",
       "      <th>1</th>\n",
       "      <td>8775973</td>\n",
       "      <td>2016</td>\n",
       "    </tr>\n",
       "    <tr>\n",
       "      <th>2</th>\n",
       "      <td>8682805</td>\n",
       "      <td>2017</td>\n",
       "    </tr>\n",
       "  </tbody>\n",
       "</table>\n",
       "</div>"
      ],
      "text/plain": [
       "   Vehicle Counts  Years\n",
       "0         8759355   2015\n",
       "1         8775973   2016\n",
       "2         8682805   2017"
      ]
     },
     "execution_count": 16,
     "metadata": {},
     "output_type": "execute_result"
    }
   ],
   "source": [
    "GasYearly_df = {'Years':[2015,2016,2017],'Vehicle Counts':[8759355, 8775973, 8682805]}\n",
    "Gasgraph_df_x = pd.DataFrame(data=GasYearly_df)\n",
    "Gasgraph_df_x.head()"
   ]
  },
  {
   "cell_type": "code",
   "execution_count": 17,
   "metadata": {},
   "outputs": [
    {
     "data": {
      "image/png": "[encoded data removed]",
      "text/plain": [
       "<matplotlib.figure.Figure at 0x1f875cf5a90>"
      ]
     },
     "metadata": {},
     "output_type": "display_data"
    }
   ],
   "source": [
    "Gasgraph_df_x.plot(x=\"Years\",y=\"Vehicle Counts\", marker=\"+\",color=\"blue\", linewidth=1, label=\"Gas Yearly Sales Trend\")\n",
    "plt.title(\"Gasoline Cars Yearly Sales Graph\",fontsize=15)\n",
    "plt.xlabel(\"Years\",fontsize=15)\n",
    "plt.ylabel(\"Gasoline cars Yearly Vehicle Sales\",fontsize=15)\n",
    "plt.legend(loc=\"best\")\n",
    "plt.show()"
   ]
  },
  {
   "cell_type": "code",
   "execution_count": null,
   "metadata": {
    "collapsed": true
   },
   "outputs": [],
   "source": []
  },
  {
   "cell_type": "code",
   "execution_count": null,
   "metadata": {
    "collapsed": true
   },
   "outputs": [],
   "source": []
  },
  {
   "cell_type": "code",
   "execution_count": null,
   "metadata": {
    "collapsed": true
   },
   "outputs": [],
   "source": []
  }
 ],
 "metadata": {
  "kernelspec": {
   "display_name": "Python 3",
   "language": "python",
   "name": "python3"
  },
  "language_info": {
   "codemirror_mode": {
    "name": "ipython",
    "version": 3
   },
   "file_extension": ".py",
   "mimetype": "text/x-python",
   "name": "python",
   "nbconvert_exporter": "python",
   "pygments_lexer": "ipython3",
   "version": "3.6.3"
  }
 },
 "nbformat": 4,
 "nbformat_minor": 2
}
